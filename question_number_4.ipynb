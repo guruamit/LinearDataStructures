{
 "cells": [
  {
   "cell_type": "code",
   "execution_count": 21,
   "id": "199d4087",
   "metadata": {},
   "outputs": [
    {
     "name": "stdout",
     "output_type": "stream",
     "text": [
      "{'a': 2, 'b': 1, 'c': 1, 'd': 1, 'e': 1, 'f': 1}\n",
      "{'a': 2, 'b': 2, 'c': 1, 'd': 1, 'e': 1, 'f': 1}\n",
      "{'a': 2, 'b': 2, 'c': 2, 'd': 1, 'e': 1, 'f': 1}\n",
      "{'a': 2, 'b': 2, 'c': 2, 'd': 1, 'e': 2, 'f': 1}\n",
      "{'a': 2, 'b': 2, 'c': 2, 'd': 1, 'e': 2, 'f': 2}\n",
      "{'a': 2, 'b': 2, 'c': 2, 'd': 1, 'e': 2, 'f': 2, 'g': 2}\n",
      "d\n"
     ]
    }
   ],
   "source": [
    "#Q4. Write a program to print the first non-repeated character from a string?\n",
    "def check_nonrepeated_first_char(str1):\n",
    "    \n",
    "    data = []\n",
    "    count = {}\n",
    "    for i in str1:\n",
    "        if i in count:\n",
    "            count[i] += 1\n",
    "            print(count)\n",
    "        else:\n",
    "            count[i] = 1\n",
    "            data.append(i)\n",
    "#             print(data)\n",
    "    for i in data:\n",
    "        if count[i] == 1:\n",
    "            return i\n",
    "   \n",
    "    return None\n",
    "\n",
    "print(check_nonrepeated_first_char('abcdefabcefgg'))\n"
   ]
  },
  {
   "cell_type": "code",
   "execution_count": null,
   "id": "81452205",
   "metadata": {},
   "outputs": [],
   "source": []
  }
 ],
 "metadata": {
  "kernelspec": {
   "display_name": "Python 3 (ipykernel)",
   "language": "python",
   "name": "python3"
  },
  "language_info": {
   "codemirror_mode": {
    "name": "ipython",
    "version": 3
   },
   "file_extension": ".py",
   "mimetype": "text/x-python",
   "name": "python",
   "nbconvert_exporter": "python",
   "pygments_lexer": "ipython3",
   "version": "3.9.7"
  }
 },
 "nbformat": 4,
 "nbformat_minor": 5
}
