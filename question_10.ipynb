{
 "cells": [
  {
   "cell_type": "code",
   "execution_count": 1,
   "id": "b7884f87",
   "metadata": {},
   "outputs": [
    {
     "name": "stdout",
     "output_type": "stream",
     "text": [
      "6\n",
      "6\n",
      "5\n",
      "3\n",
      "5\n",
      "6\n"
     ]
    }
   ],
   "source": [
    "\n",
    "from collections import deque\n",
    " \n",
    " \n",
    "class MinStack:\n",
    "    def __init__(self):\n",
    "        self.s = deque()\n",
    "        self.min = None\n",
    "    def push(self, val):\n",
    "        if not self.s:\n",
    "            self.s.append(val)\n",
    "            self.min = val\n",
    "        elif val > self.min:\n",
    "            self.s.append(val)\n",
    "        else:\n",
    "            self.s.append(2*val - self.min)\n",
    "            self.min = val\n",
    "    def pop(self):\n",
    "        if not self.s:\n",
    "            self.print('Stack underflow!!')\n",
    "            exit(-1)\n",
    "        top = self.s[-1]\n",
    "        if top < self.min:\n",
    "            self.min = 2*self.min - top\n",
    "        self.s.pop()\n",
    "    def getMin(self):\n",
    "        return self.min\n",
    " \n",
    " \n",
    "if __name__ == '__main__':\n",
    " \n",
    "    s = MinStack()\n",
    " \n",
    "    s.push(6)\n",
    "    print(s.getMin())\n",
    " \n",
    "    s.push(7)\n",
    "    print(s.getMin())\n",
    " \n",
    "    s.push(5)\n",
    "    print(s.getMin())\n",
    " \n",
    "    s.push(3)\n",
    "    print(s.getMin())\n",
    " \n",
    "    s.pop()\n",
    "    print(s.getMin())\n",
    " \n",
    "    s.pop()\n",
    "    print(s.getMin())"
   ]
  },
  {
   "cell_type": "code",
   "execution_count": null,
   "id": "1c87c466",
   "metadata": {},
   "outputs": [],
   "source": []
  }
 ],
 "metadata": {
  "kernelspec": {
   "display_name": "Python 3 (ipykernel)",
   "language": "python",
   "name": "python3"
  },
  "language_info": {
   "codemirror_mode": {
    "name": "ipython",
    "version": 3
   },
   "file_extension": ".py",
   "mimetype": "text/x-python",
   "name": "python",
   "nbconvert_exporter": "python",
   "pygments_lexer": "ipython3",
   "version": "3.9.7"
  }
 },
 "nbformat": 4,
 "nbformat_minor": 5
}
