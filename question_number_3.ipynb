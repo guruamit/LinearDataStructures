{
 "cells": [
  {
   "cell_type": "code",
   "execution_count": null,
   "id": "45f80e23",
   "metadata": {},
   "outputs": [],
   "source": [
    "#Q3. Write a program to check if two strings are a rotation of each other?"
   ]
  },
  {
   "cell_type": "code",
   "execution_count": null,
   "id": "047bcda1",
   "metadata": {},
   "outputs": [],
   "source": [
    "\n",
    "def checkRotation(string1, string2): \n",
    "    temp = '' \n",
    "    if len(string1) != len(string2): \n",
    "        return False\n",
    "    temp = string1 + string1 \n",
    "    if string2 in temp: \n",
    "        return True \n",
    "    else: \n",
    "        return False\n",
    "\n",
    "string1 = str(input(\"Enter the first string  \"))\n",
    "print(\"The string you entered is \",\"'\",string1,\"'\")\n",
    "string2 = str(input(\"Enter the string you want to check if the string is rotaton of \"))\n",
    "  \n",
    "if checkRotation(string1, string2): \n",
    "    print(\"Enetred Strings are rotations of each other.\")\n",
    "else: \n",
    "    print(\"Entered Strings are not rotations of each other.\")"
   ]
  },
  {
   "cell_type": "code",
   "execution_count": null,
   "id": "9e13a621",
   "metadata": {},
   "outputs": [],
   "source": []
  }
 ],
 "metadata": {
  "kernelspec": {
   "display_name": "Python 3 (ipykernel)",
   "language": "python",
   "name": "python3"
  },
  "language_info": {
   "codemirror_mode": {
    "name": "ipython",
    "version": 3
   },
   "file_extension": ".py",
   "mimetype": "text/x-python",
   "name": "python",
   "nbconvert_exporter": "python",
   "pygments_lexer": "ipython3",
   "version": "3.9.7"
  }
 },
 "nbformat": 4,
 "nbformat_minor": 5
}
