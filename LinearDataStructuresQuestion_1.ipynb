{
 "cells": [
  {
   "cell_type": "code",
   "execution_count": 9,
   "id": "6e139ee1",
   "metadata": {},
   "outputs": [
    {
     "name": "stdout",
     "output_type": "stream",
     "text": [
      "enter the number you want to get the pairs from 1 to 20\n",
      "0 + 15 = 15\n",
      "1 + 14 = 15\n",
      "2 + 13 = 15\n",
      "3 + 12 = 15\n",
      "4 + 11 = 15\n",
      "5 + 10 = 15\n",
      "6 + 9 = 15\n",
      "7 + 8 = 15\n"
     ]
    }
   ],
   "source": [
    "#Q1. Write a program to find all pairs of an integer array whose sum is equal to a given number?\n",
    "array = [0,1,2,3,4,5,6,7,8,9,10,11,12,13,14,15,16,17,18,19,20]\n",
    "n=len(array)\n",
    "number=int(input(\"enter the number you want to get the pairs from 1 to 20\"))\n",
    "for i in range(0,n):\n",
    "    for j in range(i+1,n):\n",
    "        if (array[i] +array[j]==number):\n",
    "            print(array[i],\"+\",array[j],\"=\",number)"
   ]
  },
  {
   "cell_type": "code",
   "execution_count": null,
   "id": "3315e9e5",
   "metadata": {},
   "outputs": [],
   "source": []
  },
  {
   "cell_type": "code",
   "execution_count": null,
   "id": "1248ba7b",
   "metadata": {},
   "outputs": [],
   "source": []
  }
 ],
 "metadata": {
  "kernelspec": {
   "display_name": "Python 3 (ipykernel)",
   "language": "python",
   "name": "python3"
  },
  "language_info": {
   "codemirror_mode": {
    "name": "ipython",
    "version": 3
   },
   "file_extension": ".py",
   "mimetype": "text/x-python",
   "name": "python",
   "nbconvert_exporter": "python",
   "pygments_lexer": "ipython3",
   "version": "3.9.7"
  }
 },
 "nbformat": 4,
 "nbformat_minor": 5
}
