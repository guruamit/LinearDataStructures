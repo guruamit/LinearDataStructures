{
 "cells": [
  {
   "cell_type": "code",
   "execution_count": null,
   "id": "11417ac7",
   "metadata": {},
   "outputs": [],
   "source": [
    "#Q2. Write a program to reverse an array in place? In place means you cannot create a new array.\n",
    "#You have to update the original array."
   ]
  },
  {
   "cell_type": "code",
   "execution_count": 3,
   "id": "9dcb3b4b",
   "metadata": {},
   "outputs": [
    {
     "name": "stdout",
     "output_type": "stream",
     "text": [
      "Original Array is : [1, 2, 3, 4, 5, 6, 7, 8, 9, 10]\n",
      "Original Array is : [10, 9, 8, 7, 6, 5, 4, 3, 2, 1]\n"
     ]
    }
   ],
   "source": [
    "import array\n",
    "original_array = [1,2,3,4,5,6,7,8,9,10]\n",
    "print(\"Original Array is :\",original_array)\n",
    "original_array.reverse()\n",
    "print(\"Original Array after reversing :\",original_array)\n"
   ]
  },
  {
   "cell_type": "code",
   "execution_count": null,
   "id": "2b30c12c",
   "metadata": {},
   "outputs": [],
   "source": []
  }
 ],
 "metadata": {
  "kernelspec": {
   "display_name": "Python 3 (ipykernel)",
   "language": "python",
   "name": "python3"
  },
  "language_info": {
   "codemirror_mode": {
    "name": "ipython",
    "version": 3
   },
   "file_extension": ".py",
   "mimetype": "text/x-python",
   "name": "python",
   "nbconvert_exporter": "python",
   "pygments_lexer": "ipython3",
   "version": "3.9.7"
  }
 },
 "nbformat": 4,
 "nbformat_minor": 5
}
