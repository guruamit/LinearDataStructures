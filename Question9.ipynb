{
 "cells": [
  {
   "cell_type": "code",
   "execution_count": 4,
   "id": "0e0c03d7",
   "metadata": {},
   "outputs": [
    {
     "name": "stdout",
     "output_type": "stream",
     "text": [
      "Please enter the elements to push: 123456789\n",
      "The stack:\n",
      "123456789\n",
      "After reversing:\n",
      "123456789\n"
     ]
    }
   ],
   "source": [
    "class Stack:\n",
    "    def __init__(self):\n",
    "        self.items = []\n",
    " \n",
    "    def is_empty(self):\n",
    "        return self.items == []\n",
    " \n",
    "    def push(self, data):\n",
    "        self.items.append(data)\n",
    " \n",
    "    def pop(self):\n",
    "        return self.items.pop()\n",
    " \n",
    "    def display(self):\n",
    "        for data in reversed(self.items):\n",
    "            print(data)\n",
    " \n",
    "\n",
    "\n",
    "\n",
    "def insert_at_bottom(s, data):\n",
    "    if s.is_empty():\n",
    "        s.push(data)\n",
    "    else:\n",
    "        popped = s.pop()\n",
    "        insert_at_bottom(s, data)\n",
    "        s.push(popped)\n",
    " \n",
    " \n",
    "def reverse_stack(s):\n",
    "    if not s.is_empty():\n",
    "        popped = s.pop()\n",
    "        reverse_stack(s)\n",
    "        insert_at_bottom(s, popped)\n",
    " \n",
    " \n",
    "s = Stack()\n",
    "data_list = input('Please enter the elements to push: ').split()\n",
    "for data in data_list:\n",
    "    s.push(int(data))\n",
    " \n",
    "print('The stack:')\n",
    "s.display()\n",
    "reverse_stack(s)\n",
    "print('After reversing:')\n",
    "s.display()"
   ]
  },
  {
   "cell_type": "code",
   "execution_count": null,
   "id": "015d5a28",
   "metadata": {},
   "outputs": [],
   "source": []
  },
  {
   "cell_type": "code",
   "execution_count": null,
   "id": "6446c6d4",
   "metadata": {},
   "outputs": [],
   "source": [
    "1234"
   ]
  }
 ],
 "metadata": {
  "kernelspec": {
   "display_name": "Python 3 (ipykernel)",
   "language": "python",
   "name": "python3"
  },
  "language_info": {
   "codemirror_mode": {
    "name": "ipython",
    "version": 3
   },
   "file_extension": ".py",
   "mimetype": "text/x-python",
   "name": "python",
   "nbconvert_exporter": "python",
   "pygments_lexer": "ipython3",
   "version": "3.9.7"
  }
 },
 "nbformat": 4,
 "nbformat_minor": 5
}
